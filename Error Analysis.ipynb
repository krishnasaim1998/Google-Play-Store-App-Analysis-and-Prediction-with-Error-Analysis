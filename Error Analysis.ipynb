{
 "cells": [
  {
   "cell_type": "markdown",
   "id": "daace8e8",
   "metadata": {},
   "source": [
    "# Google Play store apps Data analysis and Data Modelling"
   ]
  },
  {
   "cell_type": "code",
   "execution_count": 1,
   "id": "4c73e551",
   "metadata": {},
   "outputs": [],
   "source": [
    "import numpy as np # linear algebra\n",
    "import pandas as pd # data processing\n",
    "import pandas as pd\n",
    "import matplotlib.pyplot as plt\n",
    "import seaborn as sns\n",
    "from sklearn.preprocessing import MinMaxScaler,StandardScaler\n",
    "\n",
    "from sklearn.model_selection import train_test_split\n",
    "from sklearn.ensemble import RandomForestClassifier,GradientBoostingClassifier\n",
    "from sklearn.linear_model import LogisticRegression\n",
    "from sklearn.metrics import accuracy_score,confusion_matrix,ConfusionMatrixDisplay,classification_report\n"
   ]
  },
  {
   "cell_type": "code",
   "execution_count": 2,
   "id": "2a1058bf",
   "metadata": {},
   "outputs": [],
   "source": [
    "df=pd.read_csv(\"Google-Playstore.csv\")"
   ]
  },
  {
   "cell_type": "code",
   "execution_count": 3,
   "id": "1c05c2c8",
   "metadata": {},
   "outputs": [
    {
     "data": {
      "text/plain": [
       "Index(['App Name', 'App Id', 'Category', 'Rating', 'Rating Count', 'Installs',\n",
       "       'Minimum Installs', 'Maximum Installs', 'Free', 'Price', 'Currency',\n",
       "       'Size', 'Minimum Android', 'Developer Id', 'Developer Website',\n",
       "       'Developer Email', 'Released', 'Last Updated', 'Content Rating',\n",
       "       'Privacy Policy', 'Ad Supported', 'In App Purchases', 'Editors Choice',\n",
       "       'Scraped Time'],\n",
       "      dtype='object')"
      ]
     },
     "execution_count": 3,
     "metadata": {},
     "output_type": "execute_result"
    }
   ],
   "source": [
    "df.columns"
   ]
  },
  {
   "cell_type": "markdown",
   "id": "98e1ea4f",
   "metadata": {},
   "source": [
    "# Data Exploration"
   ]
  },
  {
   "cell_type": "code",
   "execution_count": 4,
   "id": "87d9cd02",
   "metadata": {},
   "outputs": [
    {
     "data": {
      "text/plain": [
       "(2312944, 24)"
      ]
     },
     "execution_count": 4,
     "metadata": {},
     "output_type": "execute_result"
    }
   ],
   "source": [
    "df.shape"
   ]
  },
  {
   "cell_type": "code",
   "execution_count": 5,
   "id": "3776484c",
   "metadata": {
    "scrolled": true
   },
   "outputs": [
    {
     "data": {
      "text/plain": [
       "<bound method DataFrame.info of                                                   App Name  \\\n",
       "0                                                  Gakondo   \n",
       "1                                      Ampere Battery Info   \n",
       "2                                                   Vibook   \n",
       "3        Smart City Trichy Public Service Vehicles 17UC...   \n",
       "4                                                  GROW.me   \n",
       "...                                                    ...   \n",
       "2312939                                           大俠客—熱血歸來   \n",
       "2312940                                         ORU Online   \n",
       "2312941                                     Data Structure   \n",
       "2312942                                        Devi Suktam   \n",
       "2312943                       Biliyor Musun - Sonsuz Yarış   \n",
       "\n",
       "                                       App Id       Category  Rating  \\\n",
       "0                         com.ishakwe.gakondo      Adventure     0.0   \n",
       "1                  com.webserveis.batteryinfo          Tools     4.4   \n",
       "2                        com.doantiepvien.crm   Productivity     0.0   \n",
       "3                     cst.stJoseph.ug17ucs548  Communication     5.0   \n",
       "4                        com.horodyski.grower          Tools     0.0   \n",
       "...                                       ...            ...     ...   \n",
       "2312939                         com.rxsj.ssjj   Role Playing     4.3   \n",
       "2312940              com.threedream.oruonline      Education     0.0   \n",
       "2312941  datastructure.appoworld.datastucture      Education     0.0   \n",
       "2312942                     ishan.devi.suktam  Music & Audio     3.5   \n",
       "2312943             com.yyazilim.biliyormusun         Trivia     5.0   \n",
       "\n",
       "         Rating Count  Installs  Minimum Installs  Maximum Installs  Free  \\\n",
       "0                 0.0       10+              10.0                15  True   \n",
       "1                64.0    5,000+            5000.0              7662  True   \n",
       "2                 0.0       50+              50.0                58  True   \n",
       "3                 5.0       10+              10.0                19  True   \n",
       "4                 0.0      100+             100.0               478  True   \n",
       "...               ...       ...               ...               ...   ...   \n",
       "2312939       16775.0  100,000+          100000.0            337109  True   \n",
       "2312940           0.0      100+             100.0               430  True   \n",
       "2312941           0.0      100+             100.0               202  True   \n",
       "2312942           8.0    1,000+            1000.0              2635  True   \n",
       "2312943          12.0      100+             100.0               354  True   \n",
       "\n",
       "         Price  ...                  Developer Website  \\\n",
       "0          0.0  ...        https://beniyizibyose.tk/#/   \n",
       "1          0.0  ...    https://webserveis.netlify.app/   \n",
       "2          0.0  ...                                NaN   \n",
       "3          0.0  ...   http://www.climatesmarttech.com/   \n",
       "4          0.0  ...        http://www.horodyski.com.pl   \n",
       "...        ...  ...                                ...   \n",
       "2312939    0.0  ...          http://www.4399sy.com.hk/   \n",
       "2312940    0.0  ...                http://www.oru.edu/   \n",
       "2312941    0.0  ...                                NaN   \n",
       "2312942    0.0  ...  https://a70f78905.app-ads-txt.com   \n",
       "2312943    0.0  ...                                NaN   \n",
       "\n",
       "                      Developer Email      Released  Last Updated  \\\n",
       "0              jean21101999@gmail.com  Feb 26, 2020  Feb 26, 2020   \n",
       "1                webserveis@gmail.com  May 21, 2020  May 06, 2021   \n",
       "2                 vnacrewit@gmail.com   Aug 9, 2019  Aug 19, 2019   \n",
       "3         climatesmarttech2@gmail.com  Sep 10, 2018  Oct 13, 2018   \n",
       "4           rmilekhorodyski@gmail.com  Feb 21, 2020  Nov 12, 2018   \n",
       "...                               ...           ...           ...   \n",
       "2312939           ssjjcomhk@gmail.com           NaN  Jun 01, 2021   \n",
       "2312940     3DreamDeveloper@gmail.com  Jan 17, 2018  Feb 02, 2018   \n",
       "2312941  appoworld.official@gmail.com  Aug 19, 2018  Aug 19, 2018   \n",
       "2312942           ruchisono@gmail.com   Aug 1, 2016  May 05, 2021   \n",
       "2312943     yyazilimdevelop@gmail.com   Aug 9, 2019  Aug 19, 2019   \n",
       "\n",
       "        Content Rating                                     Privacy Policy  \\\n",
       "0             Everyone                 https://beniyizibyose.tk/projects/   \n",
       "1             Everyone  https://dev4phones.wordpress.com/licencia-de-uso/   \n",
       "2             Everyone  https://www.vietnamairlines.com/vn/en/terms-an...   \n",
       "3             Everyone                                                NaN   \n",
       "4             Everyone                        http://www.horodyski.com.pl   \n",
       "...                ...                                                ...   \n",
       "2312939           Teen             http://a.4399sy.com.hk/user/aggreement   \n",
       "2312940       Everyone    http://www.oru.edu/about-oru/privacy-policy.php   \n",
       "2312941       Everyone  https://appoworld.000webhostapp.com/datastruct...   \n",
       "2312942       Everyone  https://docs.google.com/document/d/1x-9reZuLRX...   \n",
       "2312943       Everyone  https://biliyor-musun-sons.flycricket.io/priva...   \n",
       "\n",
       "        Ad Supported In App Purchases Editors Choice         Scraped Time  \n",
       "0              False            False          False  2021-06-15 20:19:35  \n",
       "1               True            False          False  2021-06-15 20:19:35  \n",
       "2              False            False          False  2021-06-15 20:19:35  \n",
       "3               True            False          False  2021-06-15 20:19:35  \n",
       "4              False            False          False  2021-06-15 20:19:35  \n",
       "...              ...              ...            ...                  ...  \n",
       "2312939        False            False          False  2021-06-16 12:59:18  \n",
       "2312940        False            False          False  2021-06-16 12:59:19  \n",
       "2312941        False            False          False  2021-06-16 12:59:19  \n",
       "2312942         True            False          False  2021-06-16 12:59:19  \n",
       "2312943         True            False          False  2021-06-16 12:59:19  \n",
       "\n",
       "[2312944 rows x 24 columns]>"
      ]
     },
     "execution_count": 5,
     "metadata": {},
     "output_type": "execute_result"
    }
   ],
   "source": [
    "df.info"
   ]
  },
  {
   "cell_type": "code",
   "execution_count": 6,
   "id": "c2d36f1c",
   "metadata": {},
   "outputs": [
    {
     "data": {
      "text/html": [
       "<div>\n",
       "<style scoped>\n",
       "    .dataframe tbody tr th:only-of-type {\n",
       "        vertical-align: middle;\n",
       "    }\n",
       "\n",
       "    .dataframe tbody tr th {\n",
       "        vertical-align: top;\n",
       "    }\n",
       "\n",
       "    .dataframe thead th {\n",
       "        text-align: right;\n",
       "    }\n",
       "</style>\n",
       "<table border=\"1\" class=\"dataframe\">\n",
       "  <thead>\n",
       "    <tr style=\"text-align: right;\">\n",
       "      <th></th>\n",
       "      <th>App Name</th>\n",
       "      <th>App Id</th>\n",
       "      <th>Category</th>\n",
       "      <th>Rating</th>\n",
       "      <th>Rating Count</th>\n",
       "      <th>Installs</th>\n",
       "      <th>Minimum Installs</th>\n",
       "      <th>Maximum Installs</th>\n",
       "      <th>Free</th>\n",
       "      <th>Price</th>\n",
       "      <th>...</th>\n",
       "      <th>Developer Website</th>\n",
       "      <th>Developer Email</th>\n",
       "      <th>Released</th>\n",
       "      <th>Last Updated</th>\n",
       "      <th>Content Rating</th>\n",
       "      <th>Privacy Policy</th>\n",
       "      <th>Ad Supported</th>\n",
       "      <th>In App Purchases</th>\n",
       "      <th>Editors Choice</th>\n",
       "      <th>Scraped Time</th>\n",
       "    </tr>\n",
       "  </thead>\n",
       "  <tbody>\n",
       "    <tr>\n",
       "      <th>0</th>\n",
       "      <td>Gakondo</td>\n",
       "      <td>com.ishakwe.gakondo</td>\n",
       "      <td>Adventure</td>\n",
       "      <td>0.0</td>\n",
       "      <td>0.0</td>\n",
       "      <td>10+</td>\n",
       "      <td>10.0</td>\n",
       "      <td>15</td>\n",
       "      <td>True</td>\n",
       "      <td>0.0</td>\n",
       "      <td>...</td>\n",
       "      <td>https://beniyizibyose.tk/#/</td>\n",
       "      <td>jean21101999@gmail.com</td>\n",
       "      <td>Feb 26, 2020</td>\n",
       "      <td>Feb 26, 2020</td>\n",
       "      <td>Everyone</td>\n",
       "      <td>https://beniyizibyose.tk/projects/</td>\n",
       "      <td>False</td>\n",
       "      <td>False</td>\n",
       "      <td>False</td>\n",
       "      <td>2021-06-15 20:19:35</td>\n",
       "    </tr>\n",
       "    <tr>\n",
       "      <th>1</th>\n",
       "      <td>Ampere Battery Info</td>\n",
       "      <td>com.webserveis.batteryinfo</td>\n",
       "      <td>Tools</td>\n",
       "      <td>4.4</td>\n",
       "      <td>64.0</td>\n",
       "      <td>5,000+</td>\n",
       "      <td>5000.0</td>\n",
       "      <td>7662</td>\n",
       "      <td>True</td>\n",
       "      <td>0.0</td>\n",
       "      <td>...</td>\n",
       "      <td>https://webserveis.netlify.app/</td>\n",
       "      <td>webserveis@gmail.com</td>\n",
       "      <td>May 21, 2020</td>\n",
       "      <td>May 06, 2021</td>\n",
       "      <td>Everyone</td>\n",
       "      <td>https://dev4phones.wordpress.com/licencia-de-uso/</td>\n",
       "      <td>True</td>\n",
       "      <td>False</td>\n",
       "      <td>False</td>\n",
       "      <td>2021-06-15 20:19:35</td>\n",
       "    </tr>\n",
       "    <tr>\n",
       "      <th>2</th>\n",
       "      <td>Vibook</td>\n",
       "      <td>com.doantiepvien.crm</td>\n",
       "      <td>Productivity</td>\n",
       "      <td>0.0</td>\n",
       "      <td>0.0</td>\n",
       "      <td>50+</td>\n",
       "      <td>50.0</td>\n",
       "      <td>58</td>\n",
       "      <td>True</td>\n",
       "      <td>0.0</td>\n",
       "      <td>...</td>\n",
       "      <td>NaN</td>\n",
       "      <td>vnacrewit@gmail.com</td>\n",
       "      <td>Aug 9, 2019</td>\n",
       "      <td>Aug 19, 2019</td>\n",
       "      <td>Everyone</td>\n",
       "      <td>https://www.vietnamairlines.com/vn/en/terms-an...</td>\n",
       "      <td>False</td>\n",
       "      <td>False</td>\n",
       "      <td>False</td>\n",
       "      <td>2021-06-15 20:19:35</td>\n",
       "    </tr>\n",
       "    <tr>\n",
       "      <th>3</th>\n",
       "      <td>Smart City Trichy Public Service Vehicles 17UC...</td>\n",
       "      <td>cst.stJoseph.ug17ucs548</td>\n",
       "      <td>Communication</td>\n",
       "      <td>5.0</td>\n",
       "      <td>5.0</td>\n",
       "      <td>10+</td>\n",
       "      <td>10.0</td>\n",
       "      <td>19</td>\n",
       "      <td>True</td>\n",
       "      <td>0.0</td>\n",
       "      <td>...</td>\n",
       "      <td>http://www.climatesmarttech.com/</td>\n",
       "      <td>climatesmarttech2@gmail.com</td>\n",
       "      <td>Sep 10, 2018</td>\n",
       "      <td>Oct 13, 2018</td>\n",
       "      <td>Everyone</td>\n",
       "      <td>NaN</td>\n",
       "      <td>True</td>\n",
       "      <td>False</td>\n",
       "      <td>False</td>\n",
       "      <td>2021-06-15 20:19:35</td>\n",
       "    </tr>\n",
       "    <tr>\n",
       "      <th>4</th>\n",
       "      <td>GROW.me</td>\n",
       "      <td>com.horodyski.grower</td>\n",
       "      <td>Tools</td>\n",
       "      <td>0.0</td>\n",
       "      <td>0.0</td>\n",
       "      <td>100+</td>\n",
       "      <td>100.0</td>\n",
       "      <td>478</td>\n",
       "      <td>True</td>\n",
       "      <td>0.0</td>\n",
       "      <td>...</td>\n",
       "      <td>http://www.horodyski.com.pl</td>\n",
       "      <td>rmilekhorodyski@gmail.com</td>\n",
       "      <td>Feb 21, 2020</td>\n",
       "      <td>Nov 12, 2018</td>\n",
       "      <td>Everyone</td>\n",
       "      <td>http://www.horodyski.com.pl</td>\n",
       "      <td>False</td>\n",
       "      <td>False</td>\n",
       "      <td>False</td>\n",
       "      <td>2021-06-15 20:19:35</td>\n",
       "    </tr>\n",
       "    <tr>\n",
       "      <th>5</th>\n",
       "      <td>IMOCCI</td>\n",
       "      <td>com.imocci</td>\n",
       "      <td>Social</td>\n",
       "      <td>0.0</td>\n",
       "      <td>0.0</td>\n",
       "      <td>50+</td>\n",
       "      <td>50.0</td>\n",
       "      <td>89</td>\n",
       "      <td>True</td>\n",
       "      <td>0.0</td>\n",
       "      <td>...</td>\n",
       "      <td>http://www.imocci.com</td>\n",
       "      <td>info@imocci.com</td>\n",
       "      <td>Dec 24, 2018</td>\n",
       "      <td>Dec 20, 2019</td>\n",
       "      <td>Teen</td>\n",
       "      <td>https://www.imocci.com/wp-content/uploads/2018...</td>\n",
       "      <td>False</td>\n",
       "      <td>True</td>\n",
       "      <td>False</td>\n",
       "      <td>2021-06-15 20:19:35</td>\n",
       "    </tr>\n",
       "    <tr>\n",
       "      <th>6</th>\n",
       "      <td>unlimited 4G data prank free app</td>\n",
       "      <td>getfreedata.superfatiza.unlimitedjiodataprank</td>\n",
       "      <td>Libraries &amp; Demo</td>\n",
       "      <td>4.5</td>\n",
       "      <td>12.0</td>\n",
       "      <td>1,000+</td>\n",
       "      <td>1000.0</td>\n",
       "      <td>2567</td>\n",
       "      <td>True</td>\n",
       "      <td>0.0</td>\n",
       "      <td>...</td>\n",
       "      <td>NaN</td>\n",
       "      <td>aitomgharfatimezzahra@gmail.com</td>\n",
       "      <td>Sep 23, 2019</td>\n",
       "      <td>Sep 27, 2019</td>\n",
       "      <td>Everyone</td>\n",
       "      <td>https://sites.google.com/view/unlimited4gdatap...</td>\n",
       "      <td>True</td>\n",
       "      <td>False</td>\n",
       "      <td>False</td>\n",
       "      <td>2021-06-15 20:19:35</td>\n",
       "    </tr>\n",
       "    <tr>\n",
       "      <th>7</th>\n",
       "      <td>The Everyday Calendar</td>\n",
       "      <td>com.mozaix.simoneboard</td>\n",
       "      <td>Lifestyle</td>\n",
       "      <td>2.0</td>\n",
       "      <td>39.0</td>\n",
       "      <td>500+</td>\n",
       "      <td>500.0</td>\n",
       "      <td>702</td>\n",
       "      <td>True</td>\n",
       "      <td>0.0</td>\n",
       "      <td>...</td>\n",
       "      <td>NaN</td>\n",
       "      <td>elementuser03@gmail.com</td>\n",
       "      <td>Jun 21, 2019</td>\n",
       "      <td>Jun 21, 2019</td>\n",
       "      <td>Everyone</td>\n",
       "      <td>https://www.freeprivacypolicy.com/privacy/view...</td>\n",
       "      <td>False</td>\n",
       "      <td>False</td>\n",
       "      <td>False</td>\n",
       "      <td>2021-06-15 20:19:35</td>\n",
       "    </tr>\n",
       "    <tr>\n",
       "      <th>8</th>\n",
       "      <td>WhatsOpen</td>\n",
       "      <td>com.whatsopen.app</td>\n",
       "      <td>Communication</td>\n",
       "      <td>0.0</td>\n",
       "      <td>0.0</td>\n",
       "      <td>10+</td>\n",
       "      <td>10.0</td>\n",
       "      <td>18</td>\n",
       "      <td>True</td>\n",
       "      <td>0.0</td>\n",
       "      <td>...</td>\n",
       "      <td>http://yilvermolinah.com</td>\n",
       "      <td>yilver.mh1996@gmail.com</td>\n",
       "      <td>NaN</td>\n",
       "      <td>Dec 07, 2018</td>\n",
       "      <td>Teen</td>\n",
       "      <td>http://elcafedelamanana.yilvermolinah.com/poli...</td>\n",
       "      <td>False</td>\n",
       "      <td>False</td>\n",
       "      <td>False</td>\n",
       "      <td>2021-06-15 20:19:35</td>\n",
       "    </tr>\n",
       "    <tr>\n",
       "      <th>9</th>\n",
       "      <td>Neon 3d Iron Tech Keyboard Theme</td>\n",
       "      <td>com.ikeyboard.theme.neon_3d.iron.tech</td>\n",
       "      <td>Personalization</td>\n",
       "      <td>4.7</td>\n",
       "      <td>820.0</td>\n",
       "      <td>50,000+</td>\n",
       "      <td>50000.0</td>\n",
       "      <td>62433</td>\n",
       "      <td>True</td>\n",
       "      <td>0.0</td>\n",
       "      <td>...</td>\n",
       "      <td>https://trendyteme888-31139.web.app</td>\n",
       "      <td>trendyteme.888@gmail.com</td>\n",
       "      <td>Sep 22, 2019</td>\n",
       "      <td>Oct 07, 2020</td>\n",
       "      <td>Everyone</td>\n",
       "      <td>http://bit.ly/EmojiThemePro</td>\n",
       "      <td>True</td>\n",
       "      <td>False</td>\n",
       "      <td>False</td>\n",
       "      <td>2021-06-15 20:19:35</td>\n",
       "    </tr>\n",
       "  </tbody>\n",
       "</table>\n",
       "<p>10 rows × 24 columns</p>\n",
       "</div>"
      ],
      "text/plain": [
       "                                            App Name  \\\n",
       "0                                            Gakondo   \n",
       "1                                Ampere Battery Info   \n",
       "2                                             Vibook   \n",
       "3  Smart City Trichy Public Service Vehicles 17UC...   \n",
       "4                                            GROW.me   \n",
       "5                                             IMOCCI   \n",
       "6                   unlimited 4G data prank free app   \n",
       "7                              The Everyday Calendar   \n",
       "8                                          WhatsOpen   \n",
       "9                   Neon 3d Iron Tech Keyboard Theme   \n",
       "\n",
       "                                          App Id          Category  Rating  \\\n",
       "0                            com.ishakwe.gakondo         Adventure     0.0   \n",
       "1                     com.webserveis.batteryinfo             Tools     4.4   \n",
       "2                           com.doantiepvien.crm      Productivity     0.0   \n",
       "3                        cst.stJoseph.ug17ucs548     Communication     5.0   \n",
       "4                           com.horodyski.grower             Tools     0.0   \n",
       "5                                     com.imocci            Social     0.0   \n",
       "6  getfreedata.superfatiza.unlimitedjiodataprank  Libraries & Demo     4.5   \n",
       "7                         com.mozaix.simoneboard         Lifestyle     2.0   \n",
       "8                              com.whatsopen.app     Communication     0.0   \n",
       "9          com.ikeyboard.theme.neon_3d.iron.tech   Personalization     4.7   \n",
       "\n",
       "   Rating Count Installs  Minimum Installs  Maximum Installs  Free  Price  \\\n",
       "0           0.0      10+              10.0                15  True    0.0   \n",
       "1          64.0   5,000+            5000.0              7662  True    0.0   \n",
       "2           0.0      50+              50.0                58  True    0.0   \n",
       "3           5.0      10+              10.0                19  True    0.0   \n",
       "4           0.0     100+             100.0               478  True    0.0   \n",
       "5           0.0      50+              50.0                89  True    0.0   \n",
       "6          12.0   1,000+            1000.0              2567  True    0.0   \n",
       "7          39.0     500+             500.0               702  True    0.0   \n",
       "8           0.0      10+              10.0                18  True    0.0   \n",
       "9         820.0  50,000+           50000.0             62433  True    0.0   \n",
       "\n",
       "   ...                    Developer Website                  Developer Email  \\\n",
       "0  ...          https://beniyizibyose.tk/#/           jean21101999@gmail.com   \n",
       "1  ...      https://webserveis.netlify.app/             webserveis@gmail.com   \n",
       "2  ...                                  NaN              vnacrewit@gmail.com   \n",
       "3  ...     http://www.climatesmarttech.com/      climatesmarttech2@gmail.com   \n",
       "4  ...          http://www.horodyski.com.pl        rmilekhorodyski@gmail.com   \n",
       "5  ...                http://www.imocci.com                  info@imocci.com   \n",
       "6  ...                                  NaN  aitomgharfatimezzahra@gmail.com   \n",
       "7  ...                                  NaN          elementuser03@gmail.com   \n",
       "8  ...             http://yilvermolinah.com          yilver.mh1996@gmail.com   \n",
       "9  ...  https://trendyteme888-31139.web.app         trendyteme.888@gmail.com   \n",
       "\n",
       "       Released  Last Updated Content Rating  \\\n",
       "0  Feb 26, 2020  Feb 26, 2020       Everyone   \n",
       "1  May 21, 2020  May 06, 2021       Everyone   \n",
       "2   Aug 9, 2019  Aug 19, 2019       Everyone   \n",
       "3  Sep 10, 2018  Oct 13, 2018       Everyone   \n",
       "4  Feb 21, 2020  Nov 12, 2018       Everyone   \n",
       "5  Dec 24, 2018  Dec 20, 2019           Teen   \n",
       "6  Sep 23, 2019  Sep 27, 2019       Everyone   \n",
       "7  Jun 21, 2019  Jun 21, 2019       Everyone   \n",
       "8           NaN  Dec 07, 2018           Teen   \n",
       "9  Sep 22, 2019  Oct 07, 2020       Everyone   \n",
       "\n",
       "                                      Privacy Policy Ad Supported  \\\n",
       "0                 https://beniyizibyose.tk/projects/        False   \n",
       "1  https://dev4phones.wordpress.com/licencia-de-uso/         True   \n",
       "2  https://www.vietnamairlines.com/vn/en/terms-an...        False   \n",
       "3                                                NaN         True   \n",
       "4                        http://www.horodyski.com.pl        False   \n",
       "5  https://www.imocci.com/wp-content/uploads/2018...        False   \n",
       "6  https://sites.google.com/view/unlimited4gdatap...         True   \n",
       "7  https://www.freeprivacypolicy.com/privacy/view...        False   \n",
       "8  http://elcafedelamanana.yilvermolinah.com/poli...        False   \n",
       "9                        http://bit.ly/EmojiThemePro         True   \n",
       "\n",
       "  In App Purchases Editors Choice         Scraped Time  \n",
       "0            False          False  2021-06-15 20:19:35  \n",
       "1            False          False  2021-06-15 20:19:35  \n",
       "2            False          False  2021-06-15 20:19:35  \n",
       "3            False          False  2021-06-15 20:19:35  \n",
       "4            False          False  2021-06-15 20:19:35  \n",
       "5             True          False  2021-06-15 20:19:35  \n",
       "6            False          False  2021-06-15 20:19:35  \n",
       "7            False          False  2021-06-15 20:19:35  \n",
       "8            False          False  2021-06-15 20:19:35  \n",
       "9            False          False  2021-06-15 20:19:35  \n",
       "\n",
       "[10 rows x 24 columns]"
      ]
     },
     "execution_count": 6,
     "metadata": {},
     "output_type": "execute_result"
    }
   ],
   "source": [
    "df.head(10)"
   ]
  },
  {
   "cell_type": "code",
   "execution_count": 7,
   "id": "1c2e1275",
   "metadata": {},
   "outputs": [
    {
     "data": {
      "text/html": [
       "<div>\n",
       "<style scoped>\n",
       "    .dataframe tbody tr th:only-of-type {\n",
       "        vertical-align: middle;\n",
       "    }\n",
       "\n",
       "    .dataframe tbody tr th {\n",
       "        vertical-align: top;\n",
       "    }\n",
       "\n",
       "    .dataframe thead th {\n",
       "        text-align: right;\n",
       "    }\n",
       "</style>\n",
       "<table border=\"1\" class=\"dataframe\">\n",
       "  <thead>\n",
       "    <tr style=\"text-align: right;\">\n",
       "      <th></th>\n",
       "      <th>Rating</th>\n",
       "      <th>Rating Count</th>\n",
       "      <th>Minimum Installs</th>\n",
       "      <th>Maximum Installs</th>\n",
       "      <th>Price</th>\n",
       "    </tr>\n",
       "  </thead>\n",
       "  <tbody>\n",
       "    <tr>\n",
       "      <th>count</th>\n",
       "      <td>2.290061e+06</td>\n",
       "      <td>2.290061e+06</td>\n",
       "      <td>2.312837e+06</td>\n",
       "      <td>2.312944e+06</td>\n",
       "      <td>2.312944e+06</td>\n",
       "    </tr>\n",
       "    <tr>\n",
       "      <th>mean</th>\n",
       "      <td>2.203152e+00</td>\n",
       "      <td>2.864839e+03</td>\n",
       "      <td>1.834452e+05</td>\n",
       "      <td>3.202017e+05</td>\n",
       "      <td>1.034992e-01</td>\n",
       "    </tr>\n",
       "    <tr>\n",
       "      <th>std</th>\n",
       "      <td>2.106223e+00</td>\n",
       "      <td>2.121626e+05</td>\n",
       "      <td>1.513144e+07</td>\n",
       "      <td>2.355495e+07</td>\n",
       "      <td>2.633127e+00</td>\n",
       "    </tr>\n",
       "    <tr>\n",
       "      <th>min</th>\n",
       "      <td>0.000000e+00</td>\n",
       "      <td>0.000000e+00</td>\n",
       "      <td>0.000000e+00</td>\n",
       "      <td>0.000000e+00</td>\n",
       "      <td>0.000000e+00</td>\n",
       "    </tr>\n",
       "    <tr>\n",
       "      <th>25%</th>\n",
       "      <td>0.000000e+00</td>\n",
       "      <td>0.000000e+00</td>\n",
       "      <td>5.000000e+01</td>\n",
       "      <td>8.400000e+01</td>\n",
       "      <td>0.000000e+00</td>\n",
       "    </tr>\n",
       "    <tr>\n",
       "      <th>50%</th>\n",
       "      <td>2.900000e+00</td>\n",
       "      <td>6.000000e+00</td>\n",
       "      <td>5.000000e+02</td>\n",
       "      <td>6.950000e+02</td>\n",
       "      <td>0.000000e+00</td>\n",
       "    </tr>\n",
       "    <tr>\n",
       "      <th>75%</th>\n",
       "      <td>4.300000e+00</td>\n",
       "      <td>4.200000e+01</td>\n",
       "      <td>5.000000e+03</td>\n",
       "      <td>7.354000e+03</td>\n",
       "      <td>0.000000e+00</td>\n",
       "    </tr>\n",
       "    <tr>\n",
       "      <th>max</th>\n",
       "      <td>5.000000e+00</td>\n",
       "      <td>1.385576e+08</td>\n",
       "      <td>1.000000e+10</td>\n",
       "      <td>1.205763e+10</td>\n",
       "      <td>4.000000e+02</td>\n",
       "    </tr>\n",
       "  </tbody>\n",
       "</table>\n",
       "</div>"
      ],
      "text/plain": [
       "             Rating  Rating Count  Minimum Installs  Maximum Installs  \\\n",
       "count  2.290061e+06  2.290061e+06      2.312837e+06      2.312944e+06   \n",
       "mean   2.203152e+00  2.864839e+03      1.834452e+05      3.202017e+05   \n",
       "std    2.106223e+00  2.121626e+05      1.513144e+07      2.355495e+07   \n",
       "min    0.000000e+00  0.000000e+00      0.000000e+00      0.000000e+00   \n",
       "25%    0.000000e+00  0.000000e+00      5.000000e+01      8.400000e+01   \n",
       "50%    2.900000e+00  6.000000e+00      5.000000e+02      6.950000e+02   \n",
       "75%    4.300000e+00  4.200000e+01      5.000000e+03      7.354000e+03   \n",
       "max    5.000000e+00  1.385576e+08      1.000000e+10      1.205763e+10   \n",
       "\n",
       "              Price  \n",
       "count  2.312944e+06  \n",
       "mean   1.034992e-01  \n",
       "std    2.633127e+00  \n",
       "min    0.000000e+00  \n",
       "25%    0.000000e+00  \n",
       "50%    0.000000e+00  \n",
       "75%    0.000000e+00  \n",
       "max    4.000000e+02  "
      ]
     },
     "execution_count": 7,
     "metadata": {},
     "output_type": "execute_result"
    }
   ],
   "source": [
    "df.describe()"
   ]
  },
  {
   "cell_type": "markdown",
   "id": "efd57a18",
   "metadata": {},
   "source": [
    "# Data Cleaning"
   ]
  },
  {
   "cell_type": "code",
   "execution_count": 8,
   "id": "46565795",
   "metadata": {},
   "outputs": [
    {
     "data": {
      "text/plain": [
       "Developer Website    760835\n",
       "Privacy Policy       420953\n",
       "Released              71053\n",
       "Rating                22883\n",
       "Rating Count          22883\n",
       "Minimum Android        6530\n",
       "Size                    196\n",
       "Currency                135\n",
       "Installs                107\n",
       "Minimum Installs        107\n",
       "Developer Id             33\n",
       "Developer Email          31\n",
       "App Name                  2\n",
       "App Id                    0\n",
       "Price                     0\n",
       "Free                      0\n",
       "Maximum Installs          0\n",
       "Last Updated              0\n",
       "Content Rating            0\n",
       "Category                  0\n",
       "Ad Supported              0\n",
       "In App Purchases          0\n",
       "Editors Choice            0\n",
       "Scraped Time              0\n",
       "dtype: int64"
      ]
     },
     "execution_count": 8,
     "metadata": {},
     "output_type": "execute_result"
    }
   ],
   "source": [
    "df.isnull().sum().sort_values(ascending = False)"
   ]
  },
  {
   "cell_type": "code",
   "execution_count": 9,
   "id": "f0d89301",
   "metadata": {
    "scrolled": true
   },
   "outputs": [
    {
     "data": {
      "text/html": [
       "<div>\n",
       "<style scoped>\n",
       "    .dataframe tbody tr th:only-of-type {\n",
       "        vertical-align: middle;\n",
       "    }\n",
       "\n",
       "    .dataframe tbody tr th {\n",
       "        vertical-align: top;\n",
       "    }\n",
       "\n",
       "    .dataframe thead th {\n",
       "        text-align: right;\n",
       "    }\n",
       "</style>\n",
       "<table border=\"1\" class=\"dataframe\">\n",
       "  <thead>\n",
       "    <tr style=\"text-align: right;\">\n",
       "      <th></th>\n",
       "      <th>App Name</th>\n",
       "      <th>Category</th>\n",
       "      <th>Rating</th>\n",
       "      <th>Rating Count</th>\n",
       "      <th>Installs</th>\n",
       "      <th>Minimum Installs</th>\n",
       "      <th>Maximum Installs</th>\n",
       "      <th>Free</th>\n",
       "      <th>Price</th>\n",
       "      <th>Size</th>\n",
       "      <th>Released</th>\n",
       "      <th>Last Updated</th>\n",
       "      <th>Content Rating</th>\n",
       "      <th>Ad Supported</th>\n",
       "      <th>In App Purchases</th>\n",
       "      <th>Editors Choice</th>\n",
       "    </tr>\n",
       "  </thead>\n",
       "  <tbody>\n",
       "    <tr>\n",
       "      <th>0</th>\n",
       "      <td>Gakondo</td>\n",
       "      <td>Adventure</td>\n",
       "      <td>0.0</td>\n",
       "      <td>0.0</td>\n",
       "      <td>10+</td>\n",
       "      <td>10.0</td>\n",
       "      <td>15</td>\n",
       "      <td>True</td>\n",
       "      <td>0.0</td>\n",
       "      <td>10M</td>\n",
       "      <td>Feb 26, 2020</td>\n",
       "      <td>Feb 26, 2020</td>\n",
       "      <td>Everyone</td>\n",
       "      <td>False</td>\n",
       "      <td>False</td>\n",
       "      <td>False</td>\n",
       "    </tr>\n",
       "    <tr>\n",
       "      <th>1</th>\n",
       "      <td>Ampere Battery Info</td>\n",
       "      <td>Tools</td>\n",
       "      <td>4.4</td>\n",
       "      <td>64.0</td>\n",
       "      <td>5,000+</td>\n",
       "      <td>5000.0</td>\n",
       "      <td>7662</td>\n",
       "      <td>True</td>\n",
       "      <td>0.0</td>\n",
       "      <td>2.9M</td>\n",
       "      <td>May 21, 2020</td>\n",
       "      <td>May 06, 2021</td>\n",
       "      <td>Everyone</td>\n",
       "      <td>True</td>\n",
       "      <td>False</td>\n",
       "      <td>False</td>\n",
       "    </tr>\n",
       "    <tr>\n",
       "      <th>2</th>\n",
       "      <td>Vibook</td>\n",
       "      <td>Productivity</td>\n",
       "      <td>0.0</td>\n",
       "      <td>0.0</td>\n",
       "      <td>50+</td>\n",
       "      <td>50.0</td>\n",
       "      <td>58</td>\n",
       "      <td>True</td>\n",
       "      <td>0.0</td>\n",
       "      <td>3.7M</td>\n",
       "      <td>Aug 9, 2019</td>\n",
       "      <td>Aug 19, 2019</td>\n",
       "      <td>Everyone</td>\n",
       "      <td>False</td>\n",
       "      <td>False</td>\n",
       "      <td>False</td>\n",
       "    </tr>\n",
       "    <tr>\n",
       "      <th>3</th>\n",
       "      <td>Smart City Trichy Public Service Vehicles 17UC...</td>\n",
       "      <td>Communication</td>\n",
       "      <td>5.0</td>\n",
       "      <td>5.0</td>\n",
       "      <td>10+</td>\n",
       "      <td>10.0</td>\n",
       "      <td>19</td>\n",
       "      <td>True</td>\n",
       "      <td>0.0</td>\n",
       "      <td>1.8M</td>\n",
       "      <td>Sep 10, 2018</td>\n",
       "      <td>Oct 13, 2018</td>\n",
       "      <td>Everyone</td>\n",
       "      <td>True</td>\n",
       "      <td>False</td>\n",
       "      <td>False</td>\n",
       "    </tr>\n",
       "    <tr>\n",
       "      <th>4</th>\n",
       "      <td>GROW.me</td>\n",
       "      <td>Tools</td>\n",
       "      <td>0.0</td>\n",
       "      <td>0.0</td>\n",
       "      <td>100+</td>\n",
       "      <td>100.0</td>\n",
       "      <td>478</td>\n",
       "      <td>True</td>\n",
       "      <td>0.0</td>\n",
       "      <td>6.2M</td>\n",
       "      <td>Feb 21, 2020</td>\n",
       "      <td>Nov 12, 2018</td>\n",
       "      <td>Everyone</td>\n",
       "      <td>False</td>\n",
       "      <td>False</td>\n",
       "      <td>False</td>\n",
       "    </tr>\n",
       "  </tbody>\n",
       "</table>\n",
       "</div>"
      ],
      "text/plain": [
       "                                            App Name       Category  Rating  \\\n",
       "0                                            Gakondo      Adventure     0.0   \n",
       "1                                Ampere Battery Info          Tools     4.4   \n",
       "2                                             Vibook   Productivity     0.0   \n",
       "3  Smart City Trichy Public Service Vehicles 17UC...  Communication     5.0   \n",
       "4                                            GROW.me          Tools     0.0   \n",
       "\n",
       "   Rating Count Installs  Minimum Installs  Maximum Installs  Free  Price  \\\n",
       "0           0.0      10+              10.0                15  True    0.0   \n",
       "1          64.0   5,000+            5000.0              7662  True    0.0   \n",
       "2           0.0      50+              50.0                58  True    0.0   \n",
       "3           5.0      10+              10.0                19  True    0.0   \n",
       "4           0.0     100+             100.0               478  True    0.0   \n",
       "\n",
       "   Size      Released  Last Updated Content Rating  Ad Supported  \\\n",
       "0   10M  Feb 26, 2020  Feb 26, 2020       Everyone         False   \n",
       "1  2.9M  May 21, 2020  May 06, 2021       Everyone          True   \n",
       "2  3.7M   Aug 9, 2019  Aug 19, 2019       Everyone         False   \n",
       "3  1.8M  Sep 10, 2018  Oct 13, 2018       Everyone          True   \n",
       "4  6.2M  Feb 21, 2020  Nov 12, 2018       Everyone         False   \n",
       "\n",
       "   In App Purchases  Editors Choice  \n",
       "0             False           False  \n",
       "1             False           False  \n",
       "2             False           False  \n",
       "3             False           False  \n",
       "4             False           False  "
      ]
     },
     "execution_count": 9,
     "metadata": {},
     "output_type": "execute_result"
    }
   ],
   "source": [
    "# Dropping the columns with null values\n",
    "df = df.drop(['App Id','Developer Website','Developer Email','Privacy Policy','Currency','Developer Id','Scraped Time','Minimum Android'], axis=1)\n",
    "df.head()\n"
   ]
  },
  {
   "cell_type": "code",
   "execution_count": 10,
   "id": "30abea3b",
   "metadata": {},
   "outputs": [
    {
     "data": {
      "text/plain": [
       "16"
      ]
     },
     "execution_count": 10,
     "metadata": {},
     "output_type": "execute_result"
    }
   ],
   "source": [
    "df.shape[1] #printing number of features in datasets.zip"
   ]
  },
  {
   "cell_type": "code",
   "execution_count": 11,
   "id": "c84b2a5f",
   "metadata": {},
   "outputs": [
    {
     "name": "stdout",
     "output_type": "stream",
     "text": [
      "<class 'pandas.core.frame.DataFrame'>\n",
      "RangeIndex: 2312944 entries, 0 to 2312943\n",
      "Data columns (total 16 columns):\n",
      " #   Column            Dtype  \n",
      "---  ------            -----  \n",
      " 0   App Name          object \n",
      " 1   Category          object \n",
      " 2   Rating            float64\n",
      " 3   Rating Count      float64\n",
      " 4   Installs          object \n",
      " 5   Minimum Installs  float64\n",
      " 6   Maximum Installs  int64  \n",
      " 7   Free              bool   \n",
      " 8   Price             float64\n",
      " 9   Size              object \n",
      " 10  Released          object \n",
      " 11  Last Updated      object \n",
      " 12  Content Rating    object \n",
      " 13  Ad Supported      bool   \n",
      " 14  In App Purchases  bool   \n",
      " 15  Editors Choice    bool   \n",
      "dtypes: bool(4), float64(4), int64(1), object(7)\n",
      "memory usage: 220.6+ MB\n"
     ]
    }
   ],
   "source": [
    "df.info() #Dataset information"
   ]
  },
  {
   "cell_type": "code",
   "execution_count": 12,
   "id": "ab5cb0db",
   "metadata": {},
   "outputs": [
    {
     "name": "stdout",
     "output_type": "stream",
     "text": [
      "Number of rows having null values in the dataset:\n",
      "71263  which is  3.08 %\n"
     ]
    }
   ],
   "source": [
    "print(\"Number of rows having null values in the dataset:\")\n",
    "missing_info = (len(df[df.isnull().any(axis=1)]) / len(df) )*100\n",
    "print(len(df[df.isnull().any(axis=1)]),' which is ' ,round(missing_info,2) , '%')"
   ]
  },
  {
   "cell_type": "code",
   "execution_count": 13,
   "id": "e5b99fb5",
   "metadata": {},
   "outputs": [
    {
     "data": {
      "text/plain": [
       "App Name             True\n",
       "Category            False\n",
       "Rating               True\n",
       "Rating Count         True\n",
       "Installs             True\n",
       "Minimum Installs     True\n",
       "Maximum Installs    False\n",
       "Free                False\n",
       "Price               False\n",
       "Size                 True\n",
       "Released             True\n",
       "Last Updated        False\n",
       "Content Rating      False\n",
       "Ad Supported        False\n",
       "In App Purchases    False\n",
       "Editors Choice      False\n",
       "dtype: bool"
      ]
     },
     "execution_count": 13,
     "metadata": {},
     "output_type": "execute_result"
    }
   ],
   "source": [
    "df.isnull().any() #Checking whether the null values are there or not feature-wise"
   ]
  },
  {
   "cell_type": "code",
   "execution_count": 14,
   "id": "c39ba8e7",
   "metadata": {},
   "outputs": [
    {
     "name": "stdout",
     "output_type": "stream",
     "text": [
      "['App Name', 'Rating', 'Rating Count', 'Installs', 'Minimum Installs', 'Size', 'Released']\n",
      "App Name <class 'str'> :  2\n",
      "Rating <class 'str'> :  22883\n",
      "Rating Count <class 'str'> :  22883\n",
      "Installs <class 'str'> :  107\n",
      "Minimum Installs <class 'str'> :  107\n",
      "Size <class 'str'> :  196\n",
      "Released <class 'str'> :  71053\n"
     ]
    }
   ],
   "source": [
    "cols = df.columns[df.isnull().any()].to_list()\n",
    "print(cols) #Columns with null values\n",
    "\n",
    "for c in cols:\n",
    "    print(c,type(c),\": \",df[c].isnull().sum()) # count of null values in each column"
   ]
  },
  {
   "cell_type": "code",
   "execution_count": 15,
   "id": "01be97d1",
   "metadata": {},
   "outputs": [],
   "source": [
    "df.dropna(subset=['Size','Minimum Installs','Installs','App Name'],inplace=True)\n",
    "#df.dropna(subset=['App Name'],inplace=True)"
   ]
  },
  {
   "cell_type": "code",
   "execution_count": 16,
   "id": "631a6bfb",
   "metadata": {},
   "outputs": [
    {
     "name": "stdout",
     "output_type": "stream",
     "text": [
      "App Name <class 'str'> :  0\n",
      "Rating <class 'str'> :  22581\n",
      "Rating Count <class 'str'> :  22581\n",
      "Installs <class 'str'> :  0\n",
      "Minimum Installs <class 'str'> :  0\n",
      "Size <class 'str'> :  0\n",
      "Released <class 'str'> :  70758\n"
     ]
    }
   ],
   "source": [
    "for c in cols:\n",
    "    print(c,type(c),\": \",df[c].isnull().sum())"
   ]
  },
  {
   "cell_type": "code",
   "execution_count": 17,
   "id": "5d18ee9a",
   "metadata": {},
   "outputs": [
    {
     "data": {
      "text/plain": [
       "0          0.0\n",
       "1          4.4\n",
       "2          0.0\n",
       "3          5.0\n",
       "4          0.0\n",
       "          ... \n",
       "2312939    4.3\n",
       "2312940    0.0\n",
       "2312941    0.0\n",
       "2312942    3.5\n",
       "2312943    5.0\n",
       "Name: Rating, Length: 2312640, dtype: float64"
      ]
     },
     "execution_count": 17,
     "metadata": {},
     "output_type": "execute_result"
    }
   ],
   "source": [
    "df['Rating'] #"
   ]
  },
  {
   "cell_type": "code",
   "execution_count": 18,
   "id": "ec0b860f",
   "metadata": {},
   "outputs": [
    {
     "name": "stdout",
     "output_type": "stream",
     "text": [
      "0          0.0\n",
      "1          4.4\n",
      "2          0.0\n",
      "3          5.0\n",
      "4          0.0\n",
      "          ... \n",
      "2312939    4.3\n",
      "2312940    0.0\n",
      "2312941    0.0\n",
      "2312942    3.5\n",
      "2312943    5.0\n",
      "Name: Rating, Length: 2312640, dtype: float64\n",
      "0              0.0\n",
      "1             64.0\n",
      "2              0.0\n",
      "3              5.0\n",
      "4              0.0\n",
      "            ...   \n",
      "2312939    16775.0\n",
      "2312940        0.0\n",
      "2312941        0.0\n",
      "2312942        8.0\n",
      "2312943       12.0\n",
      "Name: Rating Count, Length: 2312640, dtype: float64\n"
     ]
    }
   ],
   "source": [
    "df['Rating']  = df['Rating'].astype(float) #changing data type from string to float\n",
    "avg = round(df['Rating'].mean(),1)\n",
    "df['Rating'].fillna(avg,inplace=True)\n",
    "\n",
    "\n",
    "df['Rating Count']  = df['Rating Count'].astype(float) #changing data type from string to float\n",
    "avg = round(df['Rating Count'].mean(),1)\n",
    "df['Rating Count'].fillna(avg,inplace=True)\n",
    "print(df['Rating'])\n",
    "print(df['Rating Count'])"
   ]
  },
  {
   "cell_type": "code",
   "execution_count": 19,
   "id": "fbddd7de",
   "metadata": {
    "scrolled": true
   },
   "outputs": [
    {
     "data": {
      "text/plain": [
       "Everyone           2021869\n",
       "Teen                196318\n",
       "Mature 17+           60280\n",
       "Everyone 10+         33883\n",
       "Unrated                154\n",
       "Adults only 18+        136\n",
       "Name: Content Rating, dtype: int64"
      ]
     },
     "execution_count": 19,
     "metadata": {},
     "output_type": "execute_result"
    }
   ],
   "source": [
    "df['Content Rating'].value_counts()"
   ]
  },
  {
   "cell_type": "code",
   "execution_count": 20,
   "id": "6d61e204",
   "metadata": {},
   "outputs": [],
   "source": [
    "df['Content Rating'] = df['Content Rating'].replace('Unrated',\"Everyone\")\n",
    "\n",
    "#Cleaning other values just to include Everyone, Teens and Adult \n",
    "\n",
    "df['Content Rating'] = df['Content Rating'].replace('Mature 17+',\"Adults\")\n",
    "df['Content Rating'] = df['Content Rating'].replace('Adults only 18+',\"Adults\")\n",
    "df['Content Rating'] = df['Content Rating'].replace('Everyone 10+',\"Everyone\")"
   ]
  },
  {
   "cell_type": "code",
   "execution_count": 21,
   "id": "08d79d23",
   "metadata": {},
   "outputs": [],
   "source": [
    "#df[\"Content Rating\"].unique()"
   ]
  },
  {
   "cell_type": "code",
   "execution_count": 22,
   "id": "17100076",
   "metadata": {},
   "outputs": [
    {
     "name": "stderr",
     "output_type": "stream",
     "text": [
      "C:\\Users\\KRISHN~1\\AppData\\Local\\Temp/ipykernel_12536/3969102161.py:3: FutureWarning: The default value of regex will change from True to False in a future version. In addition, single character regular expressions will *not* be treated as literal strings when regex=True.\n",
      "  df.Installs = df.Installs.str.replace('+','')\n"
     ]
    }
   ],
   "source": [
    "# CLeaning the Installs column so as to convert it into numeric\n",
    "df.Installs = df.Installs.str.replace(',','')\n",
    "df.Installs = df.Installs.str.replace('+','')\n",
    "df.Installs = df.Installs.str.replace('Free','0')\n",
    "df['Installs'] = pd.to_numeric(df['Installs'])"
   ]
  },
  {
   "cell_type": "code",
   "execution_count": 23,
   "id": "65e61e40",
   "metadata": {},
   "outputs": [],
   "source": [
    "#df['Installs']"
   ]
  },
  {
   "cell_type": "code",
   "execution_count": 24,
   "id": "3444d09c",
   "metadata": {},
   "outputs": [
    {
     "data": {
      "text/plain": [
       "Free    2267708\n",
       "Low       41968\n",
       "Mid        2092\n",
       "High        872\n",
       "Name: PriceRange, dtype: int64"
      ]
     },
     "execution_count": 24,
     "metadata": {},
     "output_type": "execute_result"
    }
   ],
   "source": [
    "df['PriceRange'] = pd.cut(df['Price'],bins=[0,0.19,9.99,29.99,410],labels=['Free','Low','Mid','High'],include_lowest=True)\n",
    "#dummies = pd.get_dummies(df['PriceRange'],prefix='Price')\n",
    "#df = df.join(dummies)\n",
    "df['PriceRange'].value_counts()"
   ]
  },
  {
   "cell_type": "code",
   "execution_count": 25,
   "id": "3b09a9f6",
   "metadata": {},
   "outputs": [
    {
     "name": "stdout",
     "output_type": "stream",
     "text": [
      "True     2267680\n",
      "False      44960\n",
      "Name: Free, dtype: int64\n",
      "Apps that have Price = 0, have Free column True\n",
      "True     2267708\n",
      "False      44932\n",
      "Name: Free, dtype: int64\n"
     ]
    }
   ],
   "source": [
    "print(df.Free.value_counts()) #Combined count of apps which are Free and not Free\n",
    "print(\"Apps that have Price = 0, have Free column True\")\n",
    "df.loc[(df.Price==0) & (df.Free==False),'Free'] = True\n",
    "print(df.Free.value_counts())"
   ]
  },
  {
   "cell_type": "code",
   "execution_count": 26,
   "id": "2993769f",
   "metadata": {},
   "outputs": [],
   "source": [
    "df['Type'] = np.where(df['Free'] == True,'Free','Paid')\n",
    "df.drop(['Free'],inplace=True,axis=1)"
   ]
  },
  {
   "cell_type": "code",
   "execution_count": 27,
   "id": "bae1ba42",
   "metadata": {},
   "outputs": [
    {
     "data": {
      "text/plain": [
       "Less than 10K           1215434\n",
       "NoRating                1059762\n",
       "Between 10K and 500K      35779\n",
       "More than 500K             1665\n",
       "Name: RatingType, dtype: int64"
      ]
     },
     "execution_count": 27,
     "metadata": {},
     "output_type": "execute_result"
    }
   ],
   "source": [
    "df['RatingType'] = 'NoRating'\n",
    "df.loc[(df['Rating Count'] > 0) & (df['Rating Count'] <= 10000.0),'RatingType'] = 'Less than 10K'\n",
    "df.loc[(df['Rating Count'] > 10000) & (df['Rating Count'] <= 500000.0),'RatingType'] = 'Between 10K and 500K'\n",
    "df.loc[(df['Rating Count'] > 500000) & (df['Rating Count'] <= 138557570.0),'RatingType'] = 'More than 500K'\n",
    "df.RatingType.value_counts()"
   ]
  },
  {
   "cell_type": "markdown",
   "id": "6b8d7167",
   "metadata": {},
   "source": [
    "# Data Modeling for Error Analysis"
   ]
  },
  {
   "cell_type": "code",
   "execution_count": 28,
   "id": "cc17a85c",
   "metadata": {},
   "outputs": [],
   "source": [
    "#Selected features\n",
    "df['Category'] = pd.factorize(df['Category'])[0].astype(int)\n",
    "df['Type'] = pd.factorize(df['Type'])[0].astype(int)\n",
    "df['Content Rating'] = pd.factorize(df['Content Rating'])[0].astype(int)\n",
    "df['Ad Supported'] = pd.factorize(df['Ad Supported'])[0].astype(int)\n",
    "df['Editors Choice'] = pd.factorize(df['Editors Choice'])[0].astype(int)\n",
    "df['In App Purchases'] = pd.factorize(df['In App Purchases'])[0].astype(int)\n",
    "df['RatingType'] = pd.factorize(df['RatingType'])[0].astype(int)\n",
    "df['PriceRange'] = pd.factorize(df['PriceRange'])[0].astype(int)"
   ]
  },
  {
   "cell_type": "code",
   "execution_count": 29,
   "id": "85a857ee",
   "metadata": {},
   "outputs": [],
   "source": [
    "#dropping other columns which are not taken into consideration for predicting rating\n",
    "X = df.drop(['App Name','Size', 'Minimum Installs', 'Released','Rating Count' ,'Type','Maximum Installs','Price','Last Updated','Rating','RatingType'],axis=1)\n",
    "#Target values\n",
    "y = df['RatingType'].values"
   ]
  },
  {
   "cell_type": "code",
   "execution_count": 30,
   "id": "89ee86fb",
   "metadata": {},
   "outputs": [],
   "source": [
    "scaler = StandardScaler()\n",
    "X['Installs'] = scaler.fit_transform(X[['Installs']])"
   ]
  },
  {
   "cell_type": "code",
   "execution_count": 31,
   "id": "ff193615",
   "metadata": {},
   "outputs": [
    {
     "data": {
      "text/plain": [
       "((1618848, 7), (693792, 7), (1618848,), (693792,))"
      ]
     },
     "execution_count": 31,
     "metadata": {},
     "output_type": "execute_result"
    }
   ],
   "source": [
    "X_train,X_test,y_train,y_test = train_test_split(X,y,stratify=y,test_size=0.3,random_state=20)\n",
    "\n",
    "X_train.shape,X_test.shape,y_train.shape,y_test.shape"
   ]
  },
  {
   "cell_type": "code",
   "execution_count": 32,
   "id": "ce02372e",
   "metadata": {},
   "outputs": [],
   "source": [
    "X_val, X_test, y_val, y_test = train_test_split(X_test, y_test, test_size=0.5, random_state=42)"
   ]
  },
  {
   "cell_type": "markdown",
   "id": "91ebdd92",
   "metadata": {},
   "source": [
    "## GridSearchCV\n",
    "GridSearchCV is a method used to perform hyperparameter tuning in order to select the best set of hyperparameters for a given model.\n",
    "It takes an estimator (a scikit-learn model such as RandomForestClassifier or XGBClassifier), a set of hyperparameters to tune, and a scoring metric as inputs.\n",
    "It then trains and evaluates the model using a defined cross-validation method on different combinations of the hyperparameters and returns the set of hyperparameters that result in the best performance according to the specified scoring metric. The GridSearchCV exhaustively tries all possible combinations of the provided hyper-parameter values in order to find the best model.\n",
    "It is a simple and efficient way to fine-tune the hyperparameters of a model and improve its performance."
   ]
  },
  {
   "cell_type": "markdown",
   "id": "81046918",
   "metadata": {},
   "source": [
    "# Model 1"
   ]
  },
  {
   "cell_type": "code",
   "execution_count": 33,
   "id": "c075284d",
   "metadata": {
    "scrolled": true
   },
   "outputs": [
    {
     "name": "stdout",
     "output_type": "stream",
     "text": [
      "Best hyperparameters: {'max_depth': 10, 'n_estimators': 20}\n",
      "Validation set accuracy: 0.8409667450763341\n",
      "Test set accuracy: 0.8412233061205664\n"
     ]
    }
   ],
   "source": [
    "from sklearn.ensemble import RandomForestClassifier\n",
    "from sklearn.metrics import accuracy_score\n",
    "from sklearn.model_selection import GridSearchCV\n",
    "\n",
    "# create an instance of the model with some initial hyperparameters\n",
    "clf = RandomForestClassifier(n_estimators=20, max_depth=10,min_samples_split=2, random_state=0)\n",
    "\n",
    "# define the grid of hyperparameters to search\n",
    "param_grid = {'n_estimators': [10, 20],'max_depth': [5, 10]}\n",
    "\n",
    "#alternatively use these to execute faster, because these are found best in previous works\n",
    "#param_grid = {'n_estimators': [20],'max_depth': [10]}\n",
    "\n",
    "# create a GridSearchCV object\n",
    "grid_search = GridSearchCV(clf, param_grid, cv=2)\n",
    "\n",
    "# fit the grid search on the training data\n",
    "grid_search.fit(X_train, y_train)\n",
    "\n",
    "# get the best hyperparameters\n",
    "best_params = grid_search.best_params_\n",
    "print(\"Best hyperparameters:\", best_params)\n",
    "\n",
    "# retrain the model with the best hyperparameters\n",
    "best_clf_1 = RandomForestClassifier(**best_params)\n",
    "best_clf_1.fit(X_train, y_train)\n",
    "\n",
    "# make predictions on the validation set\n",
    "y_val_pred = best_clf_1.predict(X_val)\n",
    "\n",
    "# evaluate the model's performance on the validation set\n",
    "val_acc = accuracy_score(y_val, y_val_pred)\n",
    "print(\"Validation set accuracy:\", val_acc)\n",
    "\n",
    "# make predictions on the test set\n",
    "y_test_pred = best_clf_1.predict(X_test)\n",
    "\n",
    "# evaluate the model's performance on the test set\n",
    "test_acc = accuracy_score(y_test, y_test_pred)\n",
    "print(\"Test set accuracy:\", test_acc)\n"
   ]
  },
  {
   "cell_type": "code",
   "execution_count": 34,
   "id": "75a1fad4",
   "metadata": {},
   "outputs": [
    {
     "name": "stdout",
     "output_type": "stream",
     "text": [
      "Validation set classification report:\n",
      "              precision    recall  f1-score   support\n",
      "\n",
      "           0       0.82      0.87      0.84    158585\n",
      "           1       0.87      0.83      0.85    182725\n",
      "           2       0.73      0.59      0.65      5333\n",
      "           3       0.86      0.09      0.17       253\n",
      "\n",
      "    accuracy                           0.84    346896\n",
      "   macro avg       0.82      0.59      0.63    346896\n",
      "weighted avg       0.84      0.84      0.84    346896\n",
      "\n",
      "Test set classification report:\n",
      "              precision    recall  f1-score   support\n",
      "\n",
      "           0       0.82      0.87      0.84    159344\n",
      "           1       0.86      0.83      0.85    181905\n",
      "           2       0.72      0.58      0.65      5401\n",
      "           3       0.76      0.11      0.19       246\n",
      "\n",
      "    accuracy                           0.84    346896\n",
      "   macro avg       0.79      0.60      0.63    346896\n",
      "weighted avg       0.84      0.84      0.84    346896\n",
      "\n"
     ]
    }
   ],
   "source": [
    "# generate the classification report for the validation set\n",
    "val_report = classification_report(y_val, y_val_pred)\n",
    "print(\"Validation set classification report:\")\n",
    "print(val_report)\n",
    "\n",
    "\n",
    "# generate the classification report for the test set\n",
    "test_report = classification_report(y_test, y_test_pred)\n",
    "print(\"Test set classification report:\")\n",
    "print(test_report)"
   ]
  },
  {
   "cell_type": "markdown",
   "id": "e22c5283",
   "metadata": {},
   "source": [
    "The classification report shows the performance of the model on the validation and test sets. It includes several evaluation metrics such as precision, recall, f1-score, and support for each class.\n",
    "\n",
    "Precision is the number of true positive predictions divided by the number of true positive and false positive predictions. It measures how many of the positive predictions are actually correct.\n",
    "\n",
    "Recall is the number of true positive predictions divided by the number of true positive and false negative predictions. It measures how many of the actual positive cases are correctly predicted.\n",
    "\n",
    "F1-score is the harmonic mean of precision and recall. It is a balance between precision and recall.\n",
    "\n",
    "Support is the number of observations for each class. In this case, the model is performing well in classifying class 0 and 1, with precision, recall and f1-score of 0.82, 0.86 and 0.84 respectively for validation set, and the same for test set. However, the model is not performing well for class 2 and 3, the f1-score for these classes is 0.64 and 0.24 in validation set and 0.64 and 0.30 in test set.\n",
    "\n",
    "It's also worth noting that the accuracy is 0.84 for both validation and test sets, which means that the model is correctly classifying 84% of the samples."
   ]
  },
  {
   "cell_type": "code",
   "execution_count": 35,
   "id": "6dad30ea",
   "metadata": {},
   "outputs": [],
   "source": [
    "misclassified_samples = y_test != y_test_pred\n",
    "X_misclassified = X_test[misclassified_samples]\n"
   ]
  },
  {
   "cell_type": "code",
   "execution_count": 36,
   "id": "e29a27de",
   "metadata": {},
   "outputs": [
    {
     "name": "stdout",
     "output_type": "stream",
     "text": [
      "                  Category  Installs  Content Rating  Ad Supported  \\\n",
      "Category          1.000000 -0.012429        0.021688      0.060860   \n",
      "Installs         -0.012429  1.000000        0.007630      0.000007   \n",
      "Content Rating    0.021688  0.007630        1.000000      0.084391   \n",
      "Ad Supported      0.060860  0.000007        0.084391      1.000000   \n",
      "In App Purchases  0.089791  0.016280        0.065965      0.159302   \n",
      "Editors Choice    0.015774  0.054550        0.030516      0.010470   \n",
      "PriceRange       -0.024053 -0.002429       -0.010259     -0.098575   \n",
      "\n",
      "                  In App Purchases  Editors Choice  PriceRange  \n",
      "Category                  0.089791        0.015774   -0.024053  \n",
      "Installs                  0.016280        0.054550   -0.002429  \n",
      "Content Rating            0.065965        0.030516   -0.010259  \n",
      "Ad Supported              0.159302        0.010470   -0.098575  \n",
      "In App Purchases          1.000000        0.044101   -0.010771  \n",
      "Editors Choice            0.044101        1.000000   -0.001889  \n",
      "PriceRange               -0.010771       -0.001889    1.000000  \n"
     ]
    },
    {
     "data": {
      "image/png": "[encoded data removed]",
      "text/plain": [
       "<Figure size 432x288 with 2 Axes>"
      ]
     },
     "metadata": {
      "needs_background": "light"
     },
     "output_type": "display_data"
    }
   ],
   "source": [
    "# use seaborn library to plot the correlation matrix\n",
    "import seaborn as sns\n",
    "\n",
    "# create the correlation matrix\n",
    "corr_matrix = X_misclassified.corr()\n",
    "print(corr_matrix)\n",
    "\n",
    "# plot the correlation matrix\n",
    "sns.heatmap(corr_matrix, annot=True)\n",
    "plt.show()\n"
   ]
  },
  {
   "cell_type": "code",
   "execution_count": 37,
   "id": "f93924c6",
   "metadata": {},
   "outputs": [
    {
     "name": "stdout",
     "output_type": "stream",
     "text": [
      "Confusion matrix:\n",
      "[[138024  21316      4      0]\n",
      " [ 30305 150612    988      0]\n",
      " [     0   2238   3155      8]\n",
      " [     0      6    214     26]]\n"
     ]
    }
   ],
   "source": [
    "conf_matrix = confusion_matrix(y_test, y_test_pred)\n",
    "print(\"Confusion matrix:\")\n",
    "print(conf_matrix)"
   ]
  },
  {
   "cell_type": "code",
   "execution_count": 38,
   "id": "610ce53d",
   "metadata": {},
   "outputs": [
    {
     "data": {
      "image/png": "[encoded data removed]",
      "text/plain": [
       "<Figure size 432x288 with 2 Axes>"
      ]
     },
     "metadata": {
      "needs_background": "light"
     },
     "output_type": "display_data"
    }
   ],
   "source": [
    "import seaborn as sns\n",
    "from sklearn.metrics import confusion_matrix\n",
    "\n",
    "\n",
    "# plot confusion matrix on test set\n",
    "sns.heatmap(conf_matrix, annot=True, fmt='d', cmap='Blues')\n",
    "plt.xlabel('Predicted')\n",
    "plt.ylabel('Actual')\n",
    "plt.show()\n"
   ]
  },
  {
   "cell_type": "markdown",
   "id": "6decec47",
   "metadata": {},
   "source": [
    "# Class 0: No rating\n",
    "precision = 137901 / (137901 + 21441) = 0.867\n",
    "recall = 137901 / (137901 + 30208) = 0.817\n",
    "error rate = 1 - recall = 0.183\n",
    "Class 1: Less than 10K\n",
    "precision = 150741 / (150741 + 956) = 0.994\n",
    "recall = 150741 / (150741 + 2295) = 0.869\n",
    "error rate = 1 - recall = 0.131\n",
    "Class 2: Between 10K and 500K\n",
    "precision = 3101 / (3101 + 5) = 0.998\n",
    "recall = 3101 / (3101 + 2295) = 0.574\n",
    "error rate = 1 - recall = 0.426\n",
    "Class 3: Greater than 500K\n",
    "precision = 218 / (218 + 1) = 0.996\n",
    "recall = 218 / (218 + 218) = 0.5\n",
    "error rate = 1 - recall = 0.5\n",
    "We can see that class 2 has the highest error rate of 42.6%. This means that the model is having difficulty in classifying samples of class 2.\n",
    "\n",
    "It's also worth noting that the precision and recall are not always the best metric to evaluate a model, especially when the data set is unbalanced. In this case, you should use metrics such as the F1-score, the balanced accuracy, or the area under the ROC curve (AUC-ROC) to evaluate the model."
   ]
  },
  {
   "cell_type": "code",
   "execution_count": 39,
   "id": "404eede4",
   "metadata": {},
   "outputs": [],
   "source": [
    "importances = best_clf_1.feature_importances_\n",
    "indices = np.argsort(importances)[::-1]"
   ]
  },
  {
   "cell_type": "code",
   "execution_count": 40,
   "id": "4614d74c",
   "metadata": {},
   "outputs": [
    {
     "name": "stdout",
     "output_type": "stream",
     "text": [
      "1. feature 1 (0.933535)\n",
      "2. feature 3 (0.023063)\n",
      "3. feature 4 (0.018708)\n",
      "4. feature 0 (0.018435)\n",
      "5. feature 6 (0.003954)\n",
      "6. feature 2 (0.001290)\n",
      "7. feature 5 (0.001015)\n"
     ]
    }
   ],
   "source": [
    "for f in range(X_train.shape[1]):\n",
    "    print(\"%d. feature %d (%f)\" % (f + 1, indices[f], importances[indices[f]]))"
   ]
  },
  {
   "cell_type": "markdown",
   "id": "7eed5220",
   "metadata": {},
   "source": [
    "#X.head()\n",
    "Category\tInstalls\tContent Rating\tAd Supported\tIn App Purchases\tEditors Choice\tPriceRange\n",
    "\t0\t-0.012123\t0\t0\t0\t0\t0\n",
    "\t1\t-0.011794\t0\t1\t0\t0\t0\n",
    "\t2\t-0.012121\t0\t0\t0\t0\t0\n",
    "\t3\t-0.012123\t0\t1\t0\t0\t0\n",
    "\t1\t-0.012117\t0\t0\t0\t0\t0\n",
    "feature 0 - Category\n",
    "feature 1 - Installs\n",
    "feature 2 - Content Rating\n",
    "feature 3 - Ad Supported\n",
    "feature 4 - In App Purchases\n",
    "feature 5 - Editors Choice\n",
    "feature 6 - Price Range"
   ]
  },
  {
   "cell_type": "markdown",
   "id": "de8f3e40",
   "metadata": {},
   "source": [
    "# Model 2"
   ]
  },
  {
   "cell_type": "code",
   "execution_count": 41,
   "id": "733acffe",
   "metadata": {},
   "outputs": [
    {
     "name": "stdout",
     "output_type": "stream",
     "text": [
      "[05:02:36] WARNING: C:/Users/Administrator/workspace/xgboost-win64_release_1.5.1/src/learner.cc:1115: Starting in XGBoost 1.3.0, the default evaluation metric used with the objective 'multi:softprob' was changed from 'merror' to 'mlogloss'. Explicitly set eval_metric if you'd like to restore the old behavior.\n",
      "[05:02:39] WARNING: C:/Users/Administrator/workspace/xgboost-win64_release_1.5.1/src/learner.cc:1115: Starting in XGBoost 1.3.0, the default evaluation metric used with the objective 'multi:softprob' was changed from 'merror' to 'mlogloss'. Explicitly set eval_metric if you'd like to restore the old behavior.\n",
      "[05:02:43] WARNING: C:/Users/Administrator/workspace/xgboost-win64_release_1.5.1/src/learner.cc:1115: Starting in XGBoost 1.3.0, the default evaluation metric used with the objective 'multi:softprob' was changed from 'merror' to 'mlogloss'. Explicitly set eval_metric if you'd like to restore the old behavior.\n",
      "[05:02:49] WARNING: C:/Users/Administrator/workspace/xgboost-win64_release_1.5.1/src/learner.cc:1115: Starting in XGBoost 1.3.0, the default evaluation metric used with the objective 'multi:softprob' was changed from 'merror' to 'mlogloss'. Explicitly set eval_metric if you'd like to restore the old behavior.\n",
      "[05:02:57] WARNING: C:/Users/Administrator/workspace/xgboost-win64_release_1.5.1/src/learner.cc:1115: Starting in XGBoost 1.3.0, the default evaluation metric used with the objective 'multi:softprob' was changed from 'merror' to 'mlogloss'. Explicitly set eval_metric if you'd like to restore the old behavior.\n",
      "[05:03:03] WARNING: C:/Users/Administrator/workspace/xgboost-win64_release_1.5.1/src/learner.cc:1115: Starting in XGBoost 1.3.0, the default evaluation metric used with the objective 'multi:softprob' was changed from 'merror' to 'mlogloss'. Explicitly set eval_metric if you'd like to restore the old behavior.\n",
      "[05:03:09] WARNING: C:/Users/Administrator/workspace/xgboost-win64_release_1.5.1/src/learner.cc:1115: Starting in XGBoost 1.3.0, the default evaluation metric used with the objective 'multi:softprob' was changed from 'merror' to 'mlogloss'. Explicitly set eval_metric if you'd like to restore the old behavior.\n",
      "[05:03:21] WARNING: C:/Users/Administrator/workspace/xgboost-win64_release_1.5.1/src/learner.cc:1115: Starting in XGBoost 1.3.0, the default evaluation metric used with the objective 'multi:softprob' was changed from 'merror' to 'mlogloss'. Explicitly set eval_metric if you'd like to restore the old behavior.\n",
      "[05:03:33] WARNING: C:/Users/Administrator/workspace/xgboost-win64_release_1.5.1/src/learner.cc:1115: Starting in XGBoost 1.3.0, the default evaluation metric used with the objective 'multi:softprob' was changed from 'merror' to 'mlogloss'. Explicitly set eval_metric if you'd like to restore the old behavior.\n",
      "[05:03:37] WARNING: C:/Users/Administrator/workspace/xgboost-win64_release_1.5.1/src/learner.cc:1115: Starting in XGBoost 1.3.0, the default evaluation metric used with the objective 'multi:softprob' was changed from 'merror' to 'mlogloss'. Explicitly set eval_metric if you'd like to restore the old behavior.\n",
      "[05:03:40] WARNING: C:/Users/Administrator/workspace/xgboost-win64_release_1.5.1/src/learner.cc:1115: Starting in XGBoost 1.3.0, the default evaluation metric used with the objective 'multi:softprob' was changed from 'merror' to 'mlogloss'. Explicitly set eval_metric if you'd like to restore the old behavior.\n",
      "[05:03:46] WARNING: C:/Users/Administrator/workspace/xgboost-win64_release_1.5.1/src/learner.cc:1115: Starting in XGBoost 1.3.0, the default evaluation metric used with the objective 'multi:softprob' was changed from 'merror' to 'mlogloss'. Explicitly set eval_metric if you'd like to restore the old behavior.\n",
      "[05:03:53] WARNING: C:/Users/Administrator/workspace/xgboost-win64_release_1.5.1/src/learner.cc:1115: Starting in XGBoost 1.3.0, the default evaluation metric used with the objective 'multi:softprob' was changed from 'merror' to 'mlogloss'. Explicitly set eval_metric if you'd like to restore the old behavior.\n",
      "[05:03:59] WARNING: C:/Users/Administrator/workspace/xgboost-win64_release_1.5.1/src/learner.cc:1115: Starting in XGBoost 1.3.0, the default evaluation metric used with the objective 'multi:softprob' was changed from 'merror' to 'mlogloss'. Explicitly set eval_metric if you'd like to restore the old behavior.\n",
      "[05:04:06] WARNING: C:/Users/Administrator/workspace/xgboost-win64_release_1.5.1/src/learner.cc:1115: Starting in XGBoost 1.3.0, the default evaluation metric used with the objective 'multi:softprob' was changed from 'merror' to 'mlogloss'. Explicitly set eval_metric if you'd like to restore the old behavior.\n",
      "[05:04:19] WARNING: C:/Users/Administrator/workspace/xgboost-win64_release_1.5.1/src/learner.cc:1115: Starting in XGBoost 1.3.0, the default evaluation metric used with the objective 'multi:softprob' was changed from 'merror' to 'mlogloss'. Explicitly set eval_metric if you'd like to restore the old behavior.\n",
      "[05:04:33] WARNING: C:/Users/Administrator/workspace/xgboost-win64_release_1.5.1/src/learner.cc:1115: Starting in XGBoost 1.3.0, the default evaluation metric used with the objective 'multi:softprob' was changed from 'merror' to 'mlogloss'. Explicitly set eval_metric if you'd like to restore the old behavior.\n",
      "Best hyperparameters: {'learning_rate': 0.1, 'max_depth': 10, 'n_estimators': 10}\n"
     ]
    },
    {
     "name": "stderr",
     "output_type": "stream",
     "text": [
      "c:\\users\\krishna sai\\appdata\\local\\programs\\python\\python38\\lib\\site-packages\\xgboost\\sklearn.py:1224: UserWarning: The use of label encoder in XGBClassifier is deprecated and will be removed in a future release. To remove this warning, do the following: 1) Pass option use_label_encoder=False when constructing XGBClassifier object; and 2) Encode your labels (y) as integers starting with 0, i.e. 0, 1, 2, ..., [num_class - 1].\n",
      "  warnings.warn(label_encoder_deprecation_msg, UserWarning)\n"
     ]
    },
    {
     "name": "stdout",
     "output_type": "stream",
     "text": [
      "[05:05:03] WARNING: C:/Users/Administrator/workspace/xgboost-win64_release_1.5.1/src/learner.cc:1115: Starting in XGBoost 1.3.0, the default evaluation metric used with the objective 'multi:softprob' was changed from 'merror' to 'mlogloss'. Explicitly set eval_metric if you'd like to restore the old behavior.\n",
      "Validation set accuracy: 0.8434401088510678\n",
      "Test set accuracy: 0.8432700290577003\n"
     ]
    }
   ],
   "source": [
    "import xgboost as xgb\n",
    "from sklearn.metrics import accuracy_score\n",
    "from sklearn.model_selection import GridSearchCV\n",
    "\n",
    "# create an instance of the model with some initial hyperparameters\n",
    "#clf = xgb.XGBClassifier(n_estimators=100, max_depth=10, learning_rate=0.1, random_state=42)\n",
    "#Best hyperparameters: {'learning_rate': 0.1, 'max_depth': 10, 'n_estimators': 10}\n",
    "clf = xgb.XGBClassifier(use_label_encoder=False, n_estimators=10, max_depth=10, learning_rate=0.1, random_state=10)\n",
    "\n",
    "# define the grid of hyperparameters to search\n",
    "param_grid = {'n_estimators': [5, 10],\n",
    "              'max_depth': [5, 10],\n",
    "              'learning_rate': [0.1, 0.01]}\n",
    "#alternatively use these to execute faster, because these are found best in previous works\n",
    "#param_grid = {'n_estimators': [10], 'max_depth': [10],'learning_rate': [0.1]}\n",
    "\n",
    "# create a GridSearchCV object\n",
    "grid_search = GridSearchCV(clf, param_grid, cv=2)\n",
    "\n",
    "# fit the grid search on the training data\n",
    "grid_search.fit(X_train, y_train)\n",
    "\n",
    "# get the best hyperparameters\n",
    "best_params = grid_search.best_params_\n",
    "print(\"Best hyperparameters:\", best_params)\n",
    "\n",
    "# retrain the model with the best hyperparameters\n",
    "best_clf_2 = xgb.XGBClassifier(**best_params)\n",
    "best_clf_2.fit(X_train, y_train)\n",
    "\n",
    "# make predictions on the validation set\n",
    "y_val_pred = best_clf_2.predict(X_val)\n",
    "\n",
    "# evaluate the model's performance on the validation set\n",
    "val_acc = accuracy_score(y_val, y_val_pred)\n",
    "print(\"Validation set accuracy:\", val_acc)\n",
    "\n",
    "# make predictions on the test set\n",
    "y_test_pred = best_clf_2.predict(X_test)\n",
    "\n",
    "# evaluate the model's performance on the test set\n",
    "test_acc = accuracy_score(y_test, y_test_pred)\n",
    "print(\"Test set accuracy:\", test_acc)\n"
   ]
  },
  {
   "cell_type": "code",
   "execution_count": 42,
   "id": "717a1c95",
   "metadata": {},
   "outputs": [
    {
     "name": "stdout",
     "output_type": "stream",
     "text": [
      "Validation set classification report:\n",
      "              precision    recall  f1-score   support\n",
      "\n",
      "           0       0.83      0.86      0.84    158585\n",
      "           1       0.86      0.84      0.85    182725\n",
      "           2       0.72      0.65      0.68      5333\n",
      "           3       0.74      0.52      0.61       253\n",
      "\n",
      "    accuracy                           0.84    346896\n",
      "   macro avg       0.79      0.71      0.75    346896\n",
      "weighted avg       0.84      0.84      0.84    346896\n",
      "\n",
      "Test set classification report:\n",
      "              precision    recall  f1-score   support\n",
      "\n",
      "           0       0.83      0.86      0.84    159344\n",
      "           1       0.86      0.84      0.85    181905\n",
      "           2       0.72      0.65      0.68      5401\n",
      "           3       0.66      0.49      0.56       246\n",
      "\n",
      "    accuracy                           0.84    346896\n",
      "   macro avg       0.77      0.71      0.73    346896\n",
      "weighted avg       0.84      0.84      0.84    346896\n",
      "\n"
     ]
    }
   ],
   "source": [
    "# generate the classification report for the validation set\n",
    "val_report = classification_report(y_val, y_val_pred)\n",
    "print(\"Validation set classification report:\")\n",
    "print(val_report)\n",
    "\n",
    "\n",
    "\n",
    "# generate the classification report for the test set\n",
    "test_report = classification_report(y_test, y_test_pred)\n",
    "print(\"Test set classification report:\")\n",
    "print(test_report)"
   ]
  },
  {
   "cell_type": "markdown",
   "id": "b3c452e9",
   "metadata": {},
   "source": [
    "Here, the overall accuracy of the model is around 84% and it is performing well in classifying the samples into class 0 and class 1. The model is doing well in precision and recall for class 0 and class 1. But it is not performing well in class 2 and class 3, as the f1-score for these classes is less than 0.7."
   ]
  },
  {
   "cell_type": "code",
   "execution_count": 43,
   "id": "ccfc5e2b",
   "metadata": {},
   "outputs": [],
   "source": [
    "misclassified_samples = y_test != y_test_pred\n",
    "X_misclassified = X_test[misclassified_samples]\n"
   ]
  },
  {
   "cell_type": "code",
   "execution_count": 44,
   "id": "dc716529",
   "metadata": {},
   "outputs": [
    {
     "name": "stdout",
     "output_type": "stream",
     "text": [
      "                  Category  Installs  Content Rating  Ad Supported  \\\n",
      "Category          1.000000 -0.009760        0.019942      0.061777   \n",
      "Installs         -0.009760  1.000000        0.003149     -0.001690   \n",
      "Content Rating    0.019942  0.003149        1.000000      0.089760   \n",
      "Ad Supported      0.061777 -0.001690        0.089760      1.000000   \n",
      "In App Purchases  0.092079  0.011434        0.068180      0.155316   \n",
      "Editors Choice    0.019087  0.034200        0.016828      0.008416   \n",
      "PriceRange       -0.022109 -0.001662       -0.016161     -0.098979   \n",
      "\n",
      "                  In App Purchases  Editors Choice  PriceRange  \n",
      "Category                  0.092079        0.019087   -0.022109  \n",
      "Installs                  0.011434        0.034200   -0.001662  \n",
      "Content Rating            0.068180        0.016828   -0.016161  \n",
      "Ad Supported              0.155316        0.008416   -0.098979  \n",
      "In App Purchases          1.000000        0.041002   -0.010397  \n",
      "Editors Choice            0.041002        1.000000   -0.001883  \n",
      "PriceRange               -0.010397       -0.001883    1.000000  \n"
     ]
    },
    {
     "data": {
      "image/png": "[encoded data removed]",
      "text/plain": [
       "<Figure size 432x288 with 2 Axes>"
      ]
     },
     "metadata": {
      "needs_background": "light"
     },
     "output_type": "display_data"
    }
   ],
   "source": [
    "# use seaborn library to plot the correlation matrix\n",
    "import seaborn as sns\n",
    "\n",
    "# create the correlation matrix\n",
    "corr_matrix = X_misclassified.corr()\n",
    "print(corr_matrix)\n",
    "\n",
    "# plot the correlation matrix\n",
    "sns.heatmap(corr_matrix, annot=True)\n",
    "plt.show()\n"
   ]
  },
  {
   "cell_type": "code",
   "execution_count": 45,
   "id": "90626dd7",
   "metadata": {},
   "outputs": [
    {
     "name": "stdout",
     "output_type": "stream",
     "text": [
      "Confusion matrix:\n",
      "[[136807  22533      4      0]\n",
      " [ 28544 152106   1250      5]\n",
      " [     0   1851   3494     56]\n",
      " [     0      1    125    120]]\n"
     ]
    }
   ],
   "source": [
    "conf_matrix = confusion_matrix(y_test, y_test_pred)\n",
    "print(\"Confusion matrix:\")\n",
    "print(conf_matrix)"
   ]
  },
  {
   "cell_type": "code",
   "execution_count": 46,
   "id": "08a65989",
   "metadata": {},
   "outputs": [
    {
     "data": {
      "image/png": "[encoded data removed]",
      "text/plain": [
       "<Figure size 432x288 with 2 Axes>"
      ]
     },
     "metadata": {
      "needs_background": "light"
     },
     "output_type": "display_data"
    }
   ],
   "source": [
    "import seaborn as sns\n",
    "from sklearn.metrics import confusion_matrix\n",
    "\n",
    "\n",
    "# plot confusion matrix on test set\n",
    "sns.heatmap(conf_matrix, annot=True, fmt='d', cmap='Blues')\n",
    "plt.xlabel('Predicted')\n",
    "plt.ylabel('Actual')\n",
    "plt.show()\n"
   ]
  },
  {
   "cell_type": "markdown",
   "id": "4c7b1281",
   "metadata": {},
   "source": [
    "We can calculate some metrics using this confusion matrix such as the accuracy, precision, recall, and F1-score for each class.\n",
    "\n",
    "Accuracy: (136807 + 152106 + 3494 + 120) / 346896 = 0.841\n",
    "\n",
    "Precision for class 0: 136807 / (136807 + 22533) = 0.858\n",
    "Precision for class 1: 152106 / (152106 + 28544) = 0.839\n",
    "Precision for class 2: 3494 / (3494 + 1851) = 0.655\n",
    "Precision for class 3: 120 / (120 + 1) = 0.992\n",
    "\n",
    "Recall for class 0: 136807 / (136807 + 28544) = 0.826\n",
    "Recall for class 1: 152106 / (152106 + 22533) = 0.870\n",
    "Recall for class 2: 3494 / (3494 + 3494 + 56) = 0.532\n",
    "Recall for class 3: 120 / (120 + 125) = 0.490\n",
    "\n",
    "F1-score for class 0: 2 * (precision * recall) / (precision + recall) = 0.841\n",
    "F1-score for class 1: 2 * (precision * recall) / (precision + recall) = 0.854\n",
    "F1-score for class 2: 2 * (precision * recall) / (precision + recall) = 0.590\n",
    "F1-score for class 3: 2 * (precision * recall) / (precision + recall) = 0.639\n",
    "\n",
    "We can see that the XGB model has an overall accuracy of 84.1%. It is performing well in classifying the samples into class 0 and class 1 with precision and recall of 0.858 and 0.826 for class 0 and 0.839 and 0.870 for class 1 respectively. But it is not performing well in class 2 and class 3, as the F1-score for these classes is less than 0.7"
   ]
  },
  {
   "cell_type": "markdown",
   "id": "a4a409e3",
   "metadata": {},
   "source": [
    "Here are the error rates calculated from the recall values in the confusion matrix:\n",
    "\n",
    "Class 0: Error rate = 1 - 0.86 = 0.14\n",
    "Class 1: Error rate = 1 - 0.84 = 0.16\n",
    "Class 2: Error rate = 1 - 0.65 = 0.35\n",
    "Class 3: Error rate = 1 - 0.52 = 0.48\n",
    "\n",
    "for class 0, the error rate is 0.14 which means 14% of the samples that were labeled as class 0 were misclassified as other classes. Similarly, for class 1, the error rate is 0.16 which means 16% of the samples that were labeled as class 1 were misclassified as other classes.\n",
    "It can be observed that the class 2 have higher error rate than other classes which means it is more difficult to classify the class 2 data."
   ]
  },
  {
   "cell_type": "code",
   "execution_count": 47,
   "id": "3ce41ded",
   "metadata": {},
   "outputs": [],
   "source": [
    "importances = best_clf_2.feature_importances_\n",
    "indices = np.argsort(importances)[::-1]"
   ]
  },
  {
   "cell_type": "code",
   "execution_count": 48,
   "id": "7aa69851",
   "metadata": {},
   "outputs": [
    {
     "name": "stdout",
     "output_type": "stream",
     "text": [
      "1. feature 1 (0.988970)\n",
      "2. feature 6 (0.005140)\n",
      "3. feature 3 (0.002189)\n",
      "4. feature 0 (0.001918)\n",
      "5. feature 4 (0.001039)\n",
      "6. feature 5 (0.000473)\n",
      "7. feature 2 (0.000271)\n"
     ]
    }
   ],
   "source": [
    "for f in range(X_train.shape[1]):\n",
    "    print(\"%d. feature %d (%f)\" % (f + 1, indices[f], importances[indices[f]]))"
   ]
  },
  {
   "cell_type": "markdown",
   "id": "10cfd228",
   "metadata": {},
   "source": [
    "#X.head()\n",
    "Category\tInstalls\tContent Rating\tAd Supported\tIn App Purchases\tEditors Choice\tPriceRange\n",
    "\t0\t-0.012123\t0\t0\t0\t0\t0\n",
    "\t1\t-0.011794\t0\t1\t0\t0\t0\n",
    "\t2\t-0.012121\t0\t0\t0\t0\t0\n",
    "\t3\t-0.012123\t0\t1\t0\t0\t0\n",
    "\t1\t-0.012117\t0\t0\t0\t0\t0\n",
    "feature 0 - Category\n",
    "feature 1 - Installs\n",
    "feature 2 - Content Rating\n",
    "feature 3 - Ad Supported\n",
    "feature 4 - In App Purchases\n",
    "feature 5 - Editors Choice\n",
    "feature 6 - Price Range\n"
   ]
  },
  {
   "cell_type": "markdown",
   "id": "de6a645d",
   "metadata": {},
   "source": [
    "## The model is overfitting very slightly if we look at the values of training and test models"
   ]
  },
  {
   "cell_type": "markdown",
   "id": "254e3de9",
   "metadata": {},
   "source": [
    "# Conclusion\n",
    "\n",
    "From this analysis of model predictions, we have found that Installs, PriceRange, Category, and Rating are the highest influencing factors of the application success rate."
   ]
  }
 ],
 "metadata": {
  "kernelspec": {
   "display_name": "Python 3 (ipykernel)",
   "language": "python",
   "name": "python3"
  },
  "language_info": {
   "codemirror_mode": {
    "name": "ipython",
    "version": 3
   },
   "file_extension": ".py",
   "mimetype": "text/x-python",
   "name": "python",
   "nbconvert_exporter": "python",
   "pygments_lexer": "ipython3",
   "version": "3.8.10"
  }
 },
 "nbformat": 4,
 "nbformat_minor": 5
}
